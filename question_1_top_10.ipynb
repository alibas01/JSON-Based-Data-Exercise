{
 "cells": [
  {
   "cell_type": "markdown",
   "metadata": {},
   "source": [
    "# Question 1"
   ]
  },
  {
   "cell_type": "code",
   "execution_count": 45,
   "metadata": {},
   "outputs": [],
   "source": [
    "import pandas as pd\n",
    "import json"
   ]
  },
  {
   "cell_type": "code",
   "execution_count": 46,
   "metadata": {},
   "outputs": [],
   "source": [
    "json_file_path='data/world_bank_projects.json'"
   ]
  },
  {
   "cell_type": "code",
   "execution_count": 47,
   "metadata": {},
   "outputs": [],
   "source": [
    "with open(json_file_path,'r') as json_file:\n",
    "    json_data=json.load(json_file)"
   ]
  },
  {
   "cell_type": "code",
   "execution_count": 48,
   "metadata": {},
   "outputs": [],
   "source": [
    "json_df=pd.DataFrame(json_data)"
   ]
  },
  {
   "cell_type": "code",
   "execution_count": 49,
   "metadata": {},
   "outputs": [],
   "source": [
    "json_project_df=json_df[['countryshortname','regionname','mjtheme_namecode','totalamt','totalcommamt']]\n"
   ]
  },
  {
   "cell_type": "code",
   "execution_count": 50,
   "metadata": {},
   "outputs": [
    {
     "name": "stderr",
     "output_type": "stream",
     "text": [
      "C:\\ProgramData\\Anaconda3\\lib\\site-packages\\ipykernel_launcher.py:2: SettingWithCopyWarning: \n",
      "A value is trying to be set on a copy of a slice from a DataFrame.\n",
      "Try using .loc[row_indexer,col_indexer] = value instead\n",
      "\n",
      "See the caveats in the documentation: http://pandas.pydata.org/pandas-docs/stable/indexing.html#indexing-view-versus-copy\n",
      "  \n"
     ]
    }
   ],
   "source": [
    "json_project_df.reset_index()\n",
    "json_project_df['count_col']=1\n",
    "    "
   ]
  },
  {
   "cell_type": "code",
   "execution_count": 51,
   "metadata": {},
   "outputs": [],
   "source": [
    "most_countries=json_project_df.groupby('countryshortname')['count_col'].count().sort_values(ascending=False)"
   ]
  },
  {
   "cell_type": "code",
   "execution_count": 52,
   "metadata": {},
   "outputs": [
    {
     "name": "stdout",
     "output_type": "stream",
     "text": [
      "countryshortname\n",
      "Indonesia             19\n",
      "China                 19\n",
      "Vietnam               17\n",
      "India                 16\n",
      "Yemen, Republic of    13\n",
      "Nepal                 12\n",
      "Bangladesh            12\n",
      "Morocco               12\n",
      "Mozambique            11\n",
      "Africa                11\n",
      "Name: count_col, dtype: int64\n"
     ]
    }
   ],
   "source": [
    "print(most_countries.head(10))"
   ]
  },
  {
   "cell_type": "markdown",
   "metadata": {},
   "source": [
    "Since 'Africa' appeared as a country name, I want to investigate if the real country names specified in another column."
   ]
  },
  {
   "cell_type": "code",
   "execution_count": 53,
   "metadata": {},
   "outputs": [],
   "source": [
    "investigate=json_df[json_df['countryshortname']=='Africa']"
   ]
  },
  {
   "cell_type": "code",
   "execution_count": 54,
   "metadata": {},
   "outputs": [
    {
     "name": "stdout",
     "output_type": "stream",
     "text": [
      "    countryname                       borrower countrycode\n",
      "45       Africa                         ECOWAS          3A\n",
      "46       Africa                 UGANDA-COMOROS          3A\n",
      "51       Africa               OSS, IUCN, CILSS          3A\n",
      "58       Africa                  BANK EXECUTED          3A\n",
      "65       Africa        BURUNDI,RWANDA,TANZANIA          3A\n",
      "99       Africa             GOVERNMENT OF MALI          3A\n",
      "167      Africa  MINISTRIES OF TELECOM AND ICT          3A\n",
      "184      Africa                       TANZANIA          3A\n",
      "287      Africa     MALAWI, MOZAMBIQUE, ZAMBIA          3A\n",
      "353      Africa          NILE BASIN INITIATIVE          3A\n",
      "449      Africa            GOVERNMENT OF NIGER          3A\n"
     ]
    }
   ],
   "source": [
    "investigate_df=investigate[['countryname','borrower','countrycode']]\n",
    "print(investigate_df)"
   ]
  },
  {
   "cell_type": "code",
   "execution_count": 55,
   "metadata": {},
   "outputs": [
    {
     "name": "stdout",
     "output_type": "stream",
     "text": [
      "countryshortname\n",
      "Indonesia             19\n",
      "China                 19\n",
      "Vietnam               17\n",
      "India                 16\n",
      "Yemen, Republic of    13\n",
      "Nepal                 12\n",
      "Bangladesh            12\n",
      "Morocco               12\n",
      "Mozambique            11\n",
      "Africa                11\n",
      "Pakistan               9\n",
      "Name: count_col, dtype: int64\n"
     ]
    }
   ],
   "source": [
    "#I will include one more country in the top 10 list since some of the countries listed under classification of Africa\n",
    "print(most_countries.head(11))"
   ]
  },
  {
   "cell_type": "code",
   "execution_count": null,
   "metadata": {},
   "outputs": [],
   "source": []
  }
 ],
 "metadata": {
  "kernelspec": {
   "display_name": "Python 3",
   "language": "python",
   "name": "python3"
  },
  "language_info": {
   "codemirror_mode": {
    "name": "ipython",
    "version": 3
   },
   "file_extension": ".py",
   "mimetype": "text/x-python",
   "name": "python",
   "nbconvert_exporter": "python",
   "pygments_lexer": "ipython3",
   "version": "3.7.1"
  }
 },
 "nbformat": 4,
 "nbformat_minor": 2
}
